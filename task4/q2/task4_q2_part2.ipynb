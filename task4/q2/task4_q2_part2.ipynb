{
 "cells": [
  {
   "cell_type": "markdown",
   "metadata": {},
   "source": [
    "Import all relevant libraries"
   ]
  },
  {
   "cell_type": "code",
   "execution_count": 4,
   "metadata": {},
   "outputs": [],
   "source": [
    "import os\n",
    "import tsfel\n",
    "import numpy as np\n",
    "import pandas as pd\n",
    "from sklearn.model_selection import train_test_split\n",
    "from sklearn.tree import DecisionTreeClassifier\n",
    "from sklearn.metrics import accuracy_score, precision_score, recall_score, confusion_matrix, classification_report\n",
    "import seaborn as sns\n",
    "import matplotlib.pyplot as plt\n"
   ]
  },
  {
   "cell_type": "markdown",
   "metadata": {},
   "source": [
    "Loading and preparing the data // sample"
   ]
  },
  {
   "cell_type": "code",
   "execution_count": 5,
   "metadata": {},
   "outputs": [
    {
     "name": "stdout",
     "output_type": "stream",
     "text": [
      "[90048, 87936, 82304, 78464, 68672, 63104]\n"
     ]
    }
   ],
   "source": [
    "os.chdir(r\"c:\\Users\\shubh\\OneDrive - iitgn.ac.in\\Desktop\\Projects\\ML\\Assignm1\\UCI_HAR_Dataset\")\n",
    "path_now = os.getcwd()\n",
    "# print(os.getcwd())\n",
    "\n",
    "dfs_master = []\n",
    "\n",
    "# Load your dataset\n",
    "action_types = ['LAYING', 'STANDING', 'SITTING', 'WALKING', 'WALKING_UPSTAIRS', 'WALKING_DOWNSTAIRS']\n",
    "csv_directory = []\n",
    "for action in action_types:\n",
    "    csv_directory = csv_directory + [os.path.join(path_now,\"Combined\",\"train\", action)]\n",
    "\n",
    "# print(csv_directory[0])\n",
    "action_freq = [0,0,0,0,0,0]\n",
    "\n",
    "\n",
    "\n",
    "for i in range(6):\n",
    "    dfs_temp = []\n",
    "    for filename in os.listdir(csv_directory[i]):\n",
    "        filepath = os.path.join(csv_directory[i], filename)\n",
    "        # print(filepath)\n",
    "        # Read the CSV file\n",
    "        df = pd.read_csv(filepath, delimiter=',')\n",
    "        \n",
    "        # Append the DataFrame to the list\n",
    "        \n",
    "        dfs_temp.append(df)\n",
    "        # print(df)\n",
    "        # print(dfs_temp)\n",
    "        \n",
    "        # Optionally, print the filename to confirm processing\n",
    "        # print(f\"Processed: {filename}\")\n",
    "    \n",
    "    to_add_pd = pd.concat(dfs_temp, ignore_index=True)\n",
    "    dfs_master.append(to_add_pd)\n",
    "    action_freq[i] = to_add_pd.shape[0]\n",
    "    \n",
    "    \n",
    "\n",
    "print(action_freq)"
   ]
  },
  {
   "cell_type": "code",
   "execution_count": 3,
   "metadata": {},
   "outputs": [
    {
     "name": "stdout",
     "output_type": "stream",
     "text": [
      "*** Feature extraction started ***\n"
     ]
    },
    {
     "data": {
      "text/html": [
       "\n",
       "              <p>\n",
       "                  Progress: 100% Complete\n",
       "              <p/>\n",
       "              <progress\n",
       "                  value='1800'\n",
       "                  max='1800',\n",
       "                  style='width: 25%',\n",
       "              >\n",
       "                  1800\n",
       "              </progress>\n",
       "\n",
       "    "
      ],
      "text/plain": [
       "<IPython.core.display.HTML object>"
      ]
     },
     "metadata": {},
     "output_type": "display_data"
    },
    {
     "name": "stdout",
     "output_type": "stream",
     "text": [
      "\n",
      "*** Feature extraction finished ***\n",
      "feature extraction for activity LAYING done\n",
      "*** Feature extraction started ***\n"
     ]
    },
    {
     "data": {
      "text/html": [
       "\n",
       "              <p>\n",
       "                  Progress: 100% Complete\n",
       "              <p/>\n",
       "              <progress\n",
       "                  value='1758'\n",
       "                  max='1758',\n",
       "                  style='width: 25%',\n",
       "              >\n",
       "                  1758\n",
       "              </progress>\n",
       "\n",
       "    "
      ],
      "text/plain": [
       "<IPython.core.display.HTML object>"
      ]
     },
     "metadata": {},
     "output_type": "display_data"
    },
    {
     "name": "stdout",
     "output_type": "stream",
     "text": [
      "\n",
      "*** Feature extraction finished ***\n",
      "feature extraction for activity STANDING done\n",
      "*** Feature extraction started ***\n"
     ]
    },
    {
     "data": {
      "text/html": [
       "\n",
       "              <p>\n",
       "                  Progress: 100% Complete\n",
       "              <p/>\n",
       "              <progress\n",
       "                  value='1646'\n",
       "                  max='1646',\n",
       "                  style='width: 25%',\n",
       "              >\n",
       "                  1646\n",
       "              </progress>\n",
       "\n",
       "    "
      ],
      "text/plain": [
       "<IPython.core.display.HTML object>"
      ]
     },
     "metadata": {},
     "output_type": "display_data"
    },
    {
     "name": "stdout",
     "output_type": "stream",
     "text": [
      "\n",
      "*** Feature extraction finished ***\n",
      "feature extraction for activity SITTING done\n",
      "*** Feature extraction started ***\n"
     ]
    },
    {
     "data": {
      "text/html": [
       "\n",
       "              <p>\n",
       "                  Progress: 100% Complete\n",
       "              <p/>\n",
       "              <progress\n",
       "                  value='1569'\n",
       "                  max='1569',\n",
       "                  style='width: 25%',\n",
       "              >\n",
       "                  1569\n",
       "              </progress>\n",
       "\n",
       "    "
      ],
      "text/plain": [
       "<IPython.core.display.HTML object>"
      ]
     },
     "metadata": {},
     "output_type": "display_data"
    },
    {
     "name": "stdout",
     "output_type": "stream",
     "text": [
      "\n",
      "*** Feature extraction finished ***\n",
      "feature extraction for activity WALKING done\n",
      "*** Feature extraction started ***\n"
     ]
    },
    {
     "data": {
      "text/html": [
       "\n",
       "              <p>\n",
       "                  Progress: 100% Complete\n",
       "              <p/>\n",
       "              <progress\n",
       "                  value='1373'\n",
       "                  max='1373',\n",
       "                  style='width: 25%',\n",
       "              >\n",
       "                  1373\n",
       "              </progress>\n",
       "\n",
       "    "
      ],
      "text/plain": [
       "<IPython.core.display.HTML object>"
      ]
     },
     "metadata": {},
     "output_type": "display_data"
    },
    {
     "name": "stdout",
     "output_type": "stream",
     "text": [
      "\n",
      "*** Feature extraction finished ***\n",
      "feature extraction for activity WALKING_UPSTAIRS done\n",
      "*** Feature extraction started ***\n"
     ]
    },
    {
     "data": {
      "text/html": [
       "\n",
       "              <p>\n",
       "                  Progress: 100% Complete\n",
       "              <p/>\n",
       "              <progress\n",
       "                  value='1262'\n",
       "                  max='1262',\n",
       "                  style='width: 25%',\n",
       "              >\n",
       "                  1262\n",
       "              </progress>\n",
       "\n",
       "    "
      ],
      "text/plain": [
       "<IPython.core.display.HTML object>"
      ]
     },
     "metadata": {},
     "output_type": "display_data"
    },
    {
     "name": "stdout",
     "output_type": "stream",
     "text": [
      "\n",
      "*** Feature extraction finished ***\n",
      "feature extraction for activity WALKING_DOWNSTAIRS done\n"
     ]
    }
   ],
   "source": [
    "sampling_freq = 50\n",
    "windowsize = 50\n",
    "\n",
    "# Get the default configuration for feature extraction\n",
    "cfg = tsfel.get_features_by_domain()\n",
    "\n",
    "features = []\n",
    "# Extract features from the time series data\n",
    "\n",
    "for i in range(6):\n",
    "    feature_temp = tsfel.time_series_features_extractor(cfg, dfs_master[i], fs = sampling_freq, window_size= windowsize)   \n",
    "    features.append(feature_temp) \n",
    "    print(f\"feature extraction for activity {action_types[i]} done\")\n",
    "\n"
   ]
  },
  {
   "cell_type": "markdown",
   "metadata": {},
   "source": [
    "Let's look at all the features"
   ]
  },
  {
   "cell_type": "code",
   "execution_count": 6,
   "metadata": {},
   "outputs": [
    {
     "name": "stdout",
     "output_type": "stream",
     "text": [
      "1800\n",
      "1758\n",
      "1646\n",
      "1569\n",
      "1373\n",
      "1262\n"
     ]
    }
   ],
   "source": [
    "for i in range(6):\n",
    "    print(features[i].shape[0])"
   ]
  },
  {
   "cell_type": "markdown",
   "metadata": {},
   "source": [
    "y labels"
   ]
  },
  {
   "cell_type": "code",
   "execution_count": 7,
   "metadata": {},
   "outputs": [
    {
     "name": "stdout",
     "output_type": "stream",
     "text": [
      "                 y_train\n",
      "0                 LAYING\n",
      "1                 LAYING\n",
      "2                 LAYING\n",
      "3                 LAYING\n",
      "4                 LAYING\n",
      "...                  ...\n",
      "9403  WALKING_DOWNSTAIRS\n",
      "9404  WALKING_DOWNSTAIRS\n",
      "9405  WALKING_DOWNSTAIRS\n",
      "9406  WALKING_DOWNSTAIRS\n",
      "9407  WALKING_DOWNSTAIRS\n",
      "\n",
      "[9408 rows x 1 columns]\n"
     ]
    }
   ],
   "source": [
    "y_label = []\n",
    "for i in range(6):\n",
    "    y_label = y_label + [action_types[i]] * features[i].shape[0]\n",
    "\n",
    "# Create the DataFrame\n",
    "df_y_label = pd.DataFrame({'y_train': y_label})\n",
    "\n",
    "print(df_y_label)"
   ]
  },
  {
   "cell_type": "markdown",
   "metadata": {},
   "source": [
    "Lets make a comined DF for X values"
   ]
  },
  {
   "cell_type": "code",
   "execution_count": 8,
   "metadata": {},
   "outputs": [],
   "source": [
    "combined_df = pd.concat(features, ignore_index=True)\n"
   ]
  },
  {
   "cell_type": "code",
   "execution_count": 9,
   "metadata": {},
   "outputs": [
    {
     "name": "stdout",
     "output_type": "stream",
     "text": [
      "      accx_Absolute energy  accx_Area under the curve  accx_Autocorrelation  \\\n",
      "0                 1.740795                   0.182943                   2.0   \n",
      "1                 1.754540                   0.183586                   2.0   \n",
      "2                 1.763640                   0.184027                   2.0   \n",
      "3                 1.769650                   0.184353                   2.0   \n",
      "4                 1.767129                   0.184191                   2.0   \n",
      "...                    ...                        ...                   ...   \n",
      "9403             52.803378                   0.945066                   3.0   \n",
      "9404             54.498690                   0.960890                   3.0   \n",
      "9405             50.640850                   0.917232                   3.0   \n",
      "9406             60.361175                   1.006743                   3.0   \n",
      "9407             50.686238                   0.926049                   3.0   \n",
      "\n",
      "      accx_Average power  accx_Centroid  accx_ECDF Percentile Count_0  \\\n",
      "0               1.776322       0.492067                          10.0   \n",
      "1               1.790346       0.491651                          10.0   \n",
      "2               1.799632       0.488328                          10.0   \n",
      "3               1.805766       0.487685                          10.0   \n",
      "4               1.803192       0.489868                          10.0   \n",
      "...                  ...            ...                           ...   \n",
      "9403           53.880998       0.421910                          10.0   \n",
      "9404           55.610908       0.446917                          10.0   \n",
      "9405           51.674337       0.443292                          10.0   \n",
      "9406           61.593036       0.479552                          10.0   \n",
      "9407           51.720651       0.499789                          10.0   \n",
      "\n",
      "      accx_ECDF Percentile Count_1  accx_ECDF Percentile_0  \\\n",
      "0                             40.0                0.184233   \n",
      "1                             40.0                0.185250   \n",
      "2                             40.0                0.185987   \n",
      "3                             40.0                0.186007   \n",
      "4                             40.0                0.184812   \n",
      "...                            ...                     ...   \n",
      "9403                          40.0                0.676659   \n",
      "9404                          40.0                0.699203   \n",
      "9405                          40.0                0.599367   \n",
      "9406                          40.0                0.646869   \n",
      "9407                          40.0                0.631345   \n",
      "\n",
      "      accx_ECDF Percentile_1  accx_ECDF_0  ...  accz_Wavelet variance_0  \\\n",
      "0                   0.190015         0.02  ...                 0.004735   \n",
      "1                   0.189360         0.02  ...                 0.004674   \n",
      "2                   0.189444         0.02  ...                 0.004637   \n",
      "3                   0.189943         0.02  ...                 0.004688   \n",
      "4                   0.190479         0.02  ...                 0.004701   \n",
      "...                      ...          ...  ...                      ...   \n",
      "9403                1.243307         0.02  ...                 0.051194   \n",
      "9404                1.150412         0.02  ...                 0.027406   \n",
      "9405                1.224217         0.02  ...                 0.037287   \n",
      "9406                1.393328         0.02  ...                 0.016077   \n",
      "9407                1.229231         0.02  ...                 0.023775   \n",
      "\n",
      "      accz_Wavelet variance_1  accz_Wavelet variance_2  \\\n",
      "0                    0.015129                 0.029736   \n",
      "1                    0.015120                 0.029399   \n",
      "2                    0.014993                 0.029328   \n",
      "3                    0.014979                 0.029087   \n",
      "4                    0.015065                 0.028916   \n",
      "...                       ...                      ...   \n",
      "9403                 0.152646                 0.218974   \n",
      "9404                 0.088392                 0.164604   \n",
      "9405                 0.087999                 0.154344   \n",
      "9406                 0.049019                 0.108489   \n",
      "9407                 0.051525                 0.070747   \n",
      "\n",
      "      accz_Wavelet variance_3  accz_Wavelet variance_4  \\\n",
      "0                    0.046018                 0.061692   \n",
      "1                    0.045074                 0.059771   \n",
      "2                    0.045476                 0.061131   \n",
      "3                    0.045283                 0.060885   \n",
      "4                    0.044716                 0.060580   \n",
      "...                       ...                      ...   \n",
      "9403                 0.238802                 0.244923   \n",
      "9404                 0.262810                 0.334774   \n",
      "9405                 0.284556                 0.389736   \n",
      "9406                 0.209621                 0.273328   \n",
      "9407                 0.125290                 0.167515   \n",
      "\n",
      "      accz_Wavelet variance_5  accz_Wavelet variance_6  \\\n",
      "0                    0.074488                 0.082192   \n",
      "1                    0.071195                 0.077650   \n",
      "2                    0.074148                 0.082191   \n",
      "3                    0.072884                 0.079557   \n",
      "4                    0.074094                 0.082588   \n",
      "...                       ...                      ...   \n",
      "9403                 0.241867                 0.213687   \n",
      "9404                 0.330856                 0.265492   \n",
      "9405                 0.413548                 0.359449   \n",
      "9406                 0.260091                 0.194152   \n",
      "9407                 0.175102                 0.154603   \n",
      "\n",
      "      accz_Wavelet variance_7  accz_Wavelet variance_8  \\\n",
      "0                    0.083848                 0.080842   \n",
      "1                    0.078822                 0.076303   \n",
      "2                    0.084127                 0.081330   \n",
      "3                    0.080687                 0.077911   \n",
      "4                    0.084745                 0.081907   \n",
      "...                       ...                      ...   \n",
      "9403                 0.170371                 0.129984   \n",
      "9404                 0.189430                 0.136880   \n",
      "9405                 0.272625                 0.192112   \n",
      "9406                 0.122162                 0.071123   \n",
      "9407                 0.123534                 0.095534   \n",
      "\n",
      "      accz_Zero crossing rate  \n",
      "0                         0.0  \n",
      "1                         0.0  \n",
      "2                         0.0  \n",
      "3                         0.0  \n",
      "4                         0.0  \n",
      "...                       ...  \n",
      "9403                      2.0  \n",
      "9404                      2.0  \n",
      "9405                      2.0  \n",
      "9406                      2.0  \n",
      "9407                      0.0  \n",
      "\n",
      "[9408 rows x 477 columns]\n",
      "9408\n"
     ]
    }
   ],
   "source": [
    "print(combined_df)\n",
    "\n",
    "print(combined_df.shape[0])"
   ]
  },
  {
   "cell_type": "markdown",
   "metadata": {},
   "source": [
    "Test using Train data only to verify"
   ]
  },
  {
   "cell_type": "code",
   "execution_count": 10,
   "metadata": {},
   "outputs": [
    {
     "data": {
      "text/html": [
       "<style>#sk-container-id-1 {\n",
       "  /* Definition of color scheme common for light and dark mode */\n",
       "  --sklearn-color-text: black;\n",
       "  --sklearn-color-line: gray;\n",
       "  /* Definition of color scheme for unfitted estimators */\n",
       "  --sklearn-color-unfitted-level-0: #fff5e6;\n",
       "  --sklearn-color-unfitted-level-1: #f6e4d2;\n",
       "  --sklearn-color-unfitted-level-2: #ffe0b3;\n",
       "  --sklearn-color-unfitted-level-3: chocolate;\n",
       "  /* Definition of color scheme for fitted estimators */\n",
       "  --sklearn-color-fitted-level-0: #f0f8ff;\n",
       "  --sklearn-color-fitted-level-1: #d4ebff;\n",
       "  --sklearn-color-fitted-level-2: #b3dbfd;\n",
       "  --sklearn-color-fitted-level-3: cornflowerblue;\n",
       "\n",
       "  /* Specific color for light theme */\n",
       "  --sklearn-color-text-on-default-background: var(--sg-text-color, var(--theme-code-foreground, var(--jp-content-font-color1, black)));\n",
       "  --sklearn-color-background: var(--sg-background-color, var(--theme-background, var(--jp-layout-color0, white)));\n",
       "  --sklearn-color-border-box: var(--sg-text-color, var(--theme-code-foreground, var(--jp-content-font-color1, black)));\n",
       "  --sklearn-color-icon: #696969;\n",
       "\n",
       "  @media (prefers-color-scheme: dark) {\n",
       "    /* Redefinition of color scheme for dark theme */\n",
       "    --sklearn-color-text-on-default-background: var(--sg-text-color, var(--theme-code-foreground, var(--jp-content-font-color1, white)));\n",
       "    --sklearn-color-background: var(--sg-background-color, var(--theme-background, var(--jp-layout-color0, #111)));\n",
       "    --sklearn-color-border-box: var(--sg-text-color, var(--theme-code-foreground, var(--jp-content-font-color1, white)));\n",
       "    --sklearn-color-icon: #878787;\n",
       "  }\n",
       "}\n",
       "\n",
       "#sk-container-id-1 {\n",
       "  color: var(--sklearn-color-text);\n",
       "}\n",
       "\n",
       "#sk-container-id-1 pre {\n",
       "  padding: 0;\n",
       "}\n",
       "\n",
       "#sk-container-id-1 input.sk-hidden--visually {\n",
       "  border: 0;\n",
       "  clip: rect(1px 1px 1px 1px);\n",
       "  clip: rect(1px, 1px, 1px, 1px);\n",
       "  height: 1px;\n",
       "  margin: -1px;\n",
       "  overflow: hidden;\n",
       "  padding: 0;\n",
       "  position: absolute;\n",
       "  width: 1px;\n",
       "}\n",
       "\n",
       "#sk-container-id-1 div.sk-dashed-wrapped {\n",
       "  border: 1px dashed var(--sklearn-color-line);\n",
       "  margin: 0 0.4em 0.5em 0.4em;\n",
       "  box-sizing: border-box;\n",
       "  padding-bottom: 0.4em;\n",
       "  background-color: var(--sklearn-color-background);\n",
       "}\n",
       "\n",
       "#sk-container-id-1 div.sk-container {\n",
       "  /* jupyter's `normalize.less` sets `[hidden] { display: none; }`\n",
       "     but bootstrap.min.css set `[hidden] { display: none !important; }`\n",
       "     so we also need the `!important` here to be able to override the\n",
       "     default hidden behavior on the sphinx rendered scikit-learn.org.\n",
       "     See: https://github.com/scikit-learn/scikit-learn/issues/21755 */\n",
       "  display: inline-block !important;\n",
       "  position: relative;\n",
       "}\n",
       "\n",
       "#sk-container-id-1 div.sk-text-repr-fallback {\n",
       "  display: none;\n",
       "}\n",
       "\n",
       "div.sk-parallel-item,\n",
       "div.sk-serial,\n",
       "div.sk-item {\n",
       "  /* draw centered vertical line to link estimators */\n",
       "  background-image: linear-gradient(var(--sklearn-color-text-on-default-background), var(--sklearn-color-text-on-default-background));\n",
       "  background-size: 2px 100%;\n",
       "  background-repeat: no-repeat;\n",
       "  background-position: center center;\n",
       "}\n",
       "\n",
       "/* Parallel-specific style estimator block */\n",
       "\n",
       "#sk-container-id-1 div.sk-parallel-item::after {\n",
       "  content: \"\";\n",
       "  width: 100%;\n",
       "  border-bottom: 2px solid var(--sklearn-color-text-on-default-background);\n",
       "  flex-grow: 1;\n",
       "}\n",
       "\n",
       "#sk-container-id-1 div.sk-parallel {\n",
       "  display: flex;\n",
       "  align-items: stretch;\n",
       "  justify-content: center;\n",
       "  background-color: var(--sklearn-color-background);\n",
       "  position: relative;\n",
       "}\n",
       "\n",
       "#sk-container-id-1 div.sk-parallel-item {\n",
       "  display: flex;\n",
       "  flex-direction: column;\n",
       "}\n",
       "\n",
       "#sk-container-id-1 div.sk-parallel-item:first-child::after {\n",
       "  align-self: flex-end;\n",
       "  width: 50%;\n",
       "}\n",
       "\n",
       "#sk-container-id-1 div.sk-parallel-item:last-child::after {\n",
       "  align-self: flex-start;\n",
       "  width: 50%;\n",
       "}\n",
       "\n",
       "#sk-container-id-1 div.sk-parallel-item:only-child::after {\n",
       "  width: 0;\n",
       "}\n",
       "\n",
       "/* Serial-specific style estimator block */\n",
       "\n",
       "#sk-container-id-1 div.sk-serial {\n",
       "  display: flex;\n",
       "  flex-direction: column;\n",
       "  align-items: center;\n",
       "  background-color: var(--sklearn-color-background);\n",
       "  padding-right: 1em;\n",
       "  padding-left: 1em;\n",
       "}\n",
       "\n",
       "\n",
       "/* Toggleable style: style used for estimator/Pipeline/ColumnTransformer box that is\n",
       "clickable and can be expanded/collapsed.\n",
       "- Pipeline and ColumnTransformer use this feature and define the default style\n",
       "- Estimators will overwrite some part of the style using the `sk-estimator` class\n",
       "*/\n",
       "\n",
       "/* Pipeline and ColumnTransformer style (default) */\n",
       "\n",
       "#sk-container-id-1 div.sk-toggleable {\n",
       "  /* Default theme specific background. It is overwritten whether we have a\n",
       "  specific estimator or a Pipeline/ColumnTransformer */\n",
       "  background-color: var(--sklearn-color-background);\n",
       "}\n",
       "\n",
       "/* Toggleable label */\n",
       "#sk-container-id-1 label.sk-toggleable__label {\n",
       "  cursor: pointer;\n",
       "  display: block;\n",
       "  width: 100%;\n",
       "  margin-bottom: 0;\n",
       "  padding: 0.5em;\n",
       "  box-sizing: border-box;\n",
       "  text-align: center;\n",
       "}\n",
       "\n",
       "#sk-container-id-1 label.sk-toggleable__label-arrow:before {\n",
       "  /* Arrow on the left of the label */\n",
       "  content: \"▸\";\n",
       "  float: left;\n",
       "  margin-right: 0.25em;\n",
       "  color: var(--sklearn-color-icon);\n",
       "}\n",
       "\n",
       "#sk-container-id-1 label.sk-toggleable__label-arrow:hover:before {\n",
       "  color: var(--sklearn-color-text);\n",
       "}\n",
       "\n",
       "/* Toggleable content - dropdown */\n",
       "\n",
       "#sk-container-id-1 div.sk-toggleable__content {\n",
       "  max-height: 0;\n",
       "  max-width: 0;\n",
       "  overflow: hidden;\n",
       "  text-align: left;\n",
       "  /* unfitted */\n",
       "  background-color: var(--sklearn-color-unfitted-level-0);\n",
       "}\n",
       "\n",
       "#sk-container-id-1 div.sk-toggleable__content.fitted {\n",
       "  /* fitted */\n",
       "  background-color: var(--sklearn-color-fitted-level-0);\n",
       "}\n",
       "\n",
       "#sk-container-id-1 div.sk-toggleable__content pre {\n",
       "  margin: 0.2em;\n",
       "  border-radius: 0.25em;\n",
       "  color: var(--sklearn-color-text);\n",
       "  /* unfitted */\n",
       "  background-color: var(--sklearn-color-unfitted-level-0);\n",
       "}\n",
       "\n",
       "#sk-container-id-1 div.sk-toggleable__content.fitted pre {\n",
       "  /* unfitted */\n",
       "  background-color: var(--sklearn-color-fitted-level-0);\n",
       "}\n",
       "\n",
       "#sk-container-id-1 input.sk-toggleable__control:checked~div.sk-toggleable__content {\n",
       "  /* Expand drop-down */\n",
       "  max-height: 200px;\n",
       "  max-width: 100%;\n",
       "  overflow: auto;\n",
       "}\n",
       "\n",
       "#sk-container-id-1 input.sk-toggleable__control:checked~label.sk-toggleable__label-arrow:before {\n",
       "  content: \"▾\";\n",
       "}\n",
       "\n",
       "/* Pipeline/ColumnTransformer-specific style */\n",
       "\n",
       "#sk-container-id-1 div.sk-label input.sk-toggleable__control:checked~label.sk-toggleable__label {\n",
       "  color: var(--sklearn-color-text);\n",
       "  background-color: var(--sklearn-color-unfitted-level-2);\n",
       "}\n",
       "\n",
       "#sk-container-id-1 div.sk-label.fitted input.sk-toggleable__control:checked~label.sk-toggleable__label {\n",
       "  background-color: var(--sklearn-color-fitted-level-2);\n",
       "}\n",
       "\n",
       "/* Estimator-specific style */\n",
       "\n",
       "/* Colorize estimator box */\n",
       "#sk-container-id-1 div.sk-estimator input.sk-toggleable__control:checked~label.sk-toggleable__label {\n",
       "  /* unfitted */\n",
       "  background-color: var(--sklearn-color-unfitted-level-2);\n",
       "}\n",
       "\n",
       "#sk-container-id-1 div.sk-estimator.fitted input.sk-toggleable__control:checked~label.sk-toggleable__label {\n",
       "  /* fitted */\n",
       "  background-color: var(--sklearn-color-fitted-level-2);\n",
       "}\n",
       "\n",
       "#sk-container-id-1 div.sk-label label.sk-toggleable__label,\n",
       "#sk-container-id-1 div.sk-label label {\n",
       "  /* The background is the default theme color */\n",
       "  color: var(--sklearn-color-text-on-default-background);\n",
       "}\n",
       "\n",
       "/* On hover, darken the color of the background */\n",
       "#sk-container-id-1 div.sk-label:hover label.sk-toggleable__label {\n",
       "  color: var(--sklearn-color-text);\n",
       "  background-color: var(--sklearn-color-unfitted-level-2);\n",
       "}\n",
       "\n",
       "/* Label box, darken color on hover, fitted */\n",
       "#sk-container-id-1 div.sk-label.fitted:hover label.sk-toggleable__label.fitted {\n",
       "  color: var(--sklearn-color-text);\n",
       "  background-color: var(--sklearn-color-fitted-level-2);\n",
       "}\n",
       "\n",
       "/* Estimator label */\n",
       "\n",
       "#sk-container-id-1 div.sk-label label {\n",
       "  font-family: monospace;\n",
       "  font-weight: bold;\n",
       "  display: inline-block;\n",
       "  line-height: 1.2em;\n",
       "}\n",
       "\n",
       "#sk-container-id-1 div.sk-label-container {\n",
       "  text-align: center;\n",
       "}\n",
       "\n",
       "/* Estimator-specific */\n",
       "#sk-container-id-1 div.sk-estimator {\n",
       "  font-family: monospace;\n",
       "  border: 1px dotted var(--sklearn-color-border-box);\n",
       "  border-radius: 0.25em;\n",
       "  box-sizing: border-box;\n",
       "  margin-bottom: 0.5em;\n",
       "  /* unfitted */\n",
       "  background-color: var(--sklearn-color-unfitted-level-0);\n",
       "}\n",
       "\n",
       "#sk-container-id-1 div.sk-estimator.fitted {\n",
       "  /* fitted */\n",
       "  background-color: var(--sklearn-color-fitted-level-0);\n",
       "}\n",
       "\n",
       "/* on hover */\n",
       "#sk-container-id-1 div.sk-estimator:hover {\n",
       "  /* unfitted */\n",
       "  background-color: var(--sklearn-color-unfitted-level-2);\n",
       "}\n",
       "\n",
       "#sk-container-id-1 div.sk-estimator.fitted:hover {\n",
       "  /* fitted */\n",
       "  background-color: var(--sklearn-color-fitted-level-2);\n",
       "}\n",
       "\n",
       "/* Specification for estimator info (e.g. \"i\" and \"?\") */\n",
       "\n",
       "/* Common style for \"i\" and \"?\" */\n",
       "\n",
       ".sk-estimator-doc-link,\n",
       "a:link.sk-estimator-doc-link,\n",
       "a:visited.sk-estimator-doc-link {\n",
       "  float: right;\n",
       "  font-size: smaller;\n",
       "  line-height: 1em;\n",
       "  font-family: monospace;\n",
       "  background-color: var(--sklearn-color-background);\n",
       "  border-radius: 1em;\n",
       "  height: 1em;\n",
       "  width: 1em;\n",
       "  text-decoration: none !important;\n",
       "  margin-left: 1ex;\n",
       "  /* unfitted */\n",
       "  border: var(--sklearn-color-unfitted-level-1) 1pt solid;\n",
       "  color: var(--sklearn-color-unfitted-level-1);\n",
       "}\n",
       "\n",
       ".sk-estimator-doc-link.fitted,\n",
       "a:link.sk-estimator-doc-link.fitted,\n",
       "a:visited.sk-estimator-doc-link.fitted {\n",
       "  /* fitted */\n",
       "  border: var(--sklearn-color-fitted-level-1) 1pt solid;\n",
       "  color: var(--sklearn-color-fitted-level-1);\n",
       "}\n",
       "\n",
       "/* On hover */\n",
       "div.sk-estimator:hover .sk-estimator-doc-link:hover,\n",
       ".sk-estimator-doc-link:hover,\n",
       "div.sk-label-container:hover .sk-estimator-doc-link:hover,\n",
       ".sk-estimator-doc-link:hover {\n",
       "  /* unfitted */\n",
       "  background-color: var(--sklearn-color-unfitted-level-3);\n",
       "  color: var(--sklearn-color-background);\n",
       "  text-decoration: none;\n",
       "}\n",
       "\n",
       "div.sk-estimator.fitted:hover .sk-estimator-doc-link.fitted:hover,\n",
       ".sk-estimator-doc-link.fitted:hover,\n",
       "div.sk-label-container:hover .sk-estimator-doc-link.fitted:hover,\n",
       ".sk-estimator-doc-link.fitted:hover {\n",
       "  /* fitted */\n",
       "  background-color: var(--sklearn-color-fitted-level-3);\n",
       "  color: var(--sklearn-color-background);\n",
       "  text-decoration: none;\n",
       "}\n",
       "\n",
       "/* Span, style for the box shown on hovering the info icon */\n",
       ".sk-estimator-doc-link span {\n",
       "  display: none;\n",
       "  z-index: 9999;\n",
       "  position: relative;\n",
       "  font-weight: normal;\n",
       "  right: .2ex;\n",
       "  padding: .5ex;\n",
       "  margin: .5ex;\n",
       "  width: min-content;\n",
       "  min-width: 20ex;\n",
       "  max-width: 50ex;\n",
       "  color: var(--sklearn-color-text);\n",
       "  box-shadow: 2pt 2pt 4pt #999;\n",
       "  /* unfitted */\n",
       "  background: var(--sklearn-color-unfitted-level-0);\n",
       "  border: .5pt solid var(--sklearn-color-unfitted-level-3);\n",
       "}\n",
       "\n",
       ".sk-estimator-doc-link.fitted span {\n",
       "  /* fitted */\n",
       "  background: var(--sklearn-color-fitted-level-0);\n",
       "  border: var(--sklearn-color-fitted-level-3);\n",
       "}\n",
       "\n",
       ".sk-estimator-doc-link:hover span {\n",
       "  display: block;\n",
       "}\n",
       "\n",
       "/* \"?\"-specific style due to the `<a>` HTML tag */\n",
       "\n",
       "#sk-container-id-1 a.estimator_doc_link {\n",
       "  float: right;\n",
       "  font-size: 1rem;\n",
       "  line-height: 1em;\n",
       "  font-family: monospace;\n",
       "  background-color: var(--sklearn-color-background);\n",
       "  border-radius: 1rem;\n",
       "  height: 1rem;\n",
       "  width: 1rem;\n",
       "  text-decoration: none;\n",
       "  /* unfitted */\n",
       "  color: var(--sklearn-color-unfitted-level-1);\n",
       "  border: var(--sklearn-color-unfitted-level-1) 1pt solid;\n",
       "}\n",
       "\n",
       "#sk-container-id-1 a.estimator_doc_link.fitted {\n",
       "  /* fitted */\n",
       "  border: var(--sklearn-color-fitted-level-1) 1pt solid;\n",
       "  color: var(--sklearn-color-fitted-level-1);\n",
       "}\n",
       "\n",
       "/* On hover */\n",
       "#sk-container-id-1 a.estimator_doc_link:hover {\n",
       "  /* unfitted */\n",
       "  background-color: var(--sklearn-color-unfitted-level-3);\n",
       "  color: var(--sklearn-color-background);\n",
       "  text-decoration: none;\n",
       "}\n",
       "\n",
       "#sk-container-id-1 a.estimator_doc_link.fitted:hover {\n",
       "  /* fitted */\n",
       "  background-color: var(--sklearn-color-fitted-level-3);\n",
       "}\n",
       "</style><div id=\"sk-container-id-1\" class=\"sk-top-container\"><div class=\"sk-text-repr-fallback\"><pre>DecisionTreeClassifier(max_depth=8, random_state=43)</pre><b>In a Jupyter environment, please rerun this cell to show the HTML representation or trust the notebook. <br />On GitHub, the HTML representation is unable to render, please try loading this page with nbviewer.org.</b></div><div class=\"sk-container\" hidden><div class=\"sk-item\"><div class=\"sk-estimator fitted sk-toggleable\"><input class=\"sk-toggleable__control sk-hidden--visually\" id=\"sk-estimator-id-1\" type=\"checkbox\" checked><label for=\"sk-estimator-id-1\" class=\"sk-toggleable__label fitted sk-toggleable__label-arrow fitted\">&nbsp;&nbsp;DecisionTreeClassifier<a class=\"sk-estimator-doc-link fitted\" rel=\"noreferrer\" target=\"_blank\" href=\"https://scikit-learn.org/1.5/modules/generated/sklearn.tree.DecisionTreeClassifier.html\">?<span>Documentation for DecisionTreeClassifier</span></a><span class=\"sk-estimator-doc-link fitted\">i<span>Fitted</span></span></label><div class=\"sk-toggleable__content fitted\"><pre>DecisionTreeClassifier(max_depth=8, random_state=43)</pre></div> </div></div></div></div>"
      ],
      "text/plain": [
       "DecisionTreeClassifier(max_depth=8, random_state=43)"
      ]
     },
     "execution_count": 10,
     "metadata": {},
     "output_type": "execute_result"
    }
   ],
   "source": [
    "from sklearn.tree import DecisionTreeClassifier\n",
    "n = 8\n",
    "# Without setting random_state\n",
    "clf1 = DecisionTreeClassifier(max_depth = n, random_state= 43)\n",
    "clf1.fit(combined_df, df_y_label)\n"
   ]
  },
  {
   "cell_type": "markdown",
   "metadata": {},
   "source": [
    "Now, Test and Predict , but wait, we are using the Train Set"
   ]
  },
  {
   "cell_type": "code",
   "execution_count": 11,
   "metadata": {},
   "outputs": [
    {
     "name": "stdout",
     "output_type": "stream",
     "text": [
      "Accuracy: 0.9456\n",
      "Precision: 0.9458\n",
      "Recall: 0.9456\n",
      "\n",
      "Classification Report:\n",
      "                     precision    recall  f1-score   support\n",
      "\n",
      "            LAYING       1.00      1.00      1.00      1800\n",
      "           SITTING       0.94      0.95      0.95      1646\n",
      "          STANDING       0.95      0.95      0.95      1758\n",
      "           WALKING       0.90      0.94      0.92      1569\n",
      "WALKING_DOWNSTAIRS       0.93      0.90      0.91      1262\n",
      "  WALKING_UPSTAIRS       0.93      0.92      0.92      1373\n",
      "\n",
      "          accuracy                           0.95      9408\n",
      "         macro avg       0.94      0.94      0.94      9408\n",
      "      weighted avg       0.95      0.95      0.95      9408\n",
      "\n"
     ]
    },
    {
     "data": {
      "image/png": "[encoded data removed]",
      "text/plain": [
       "<Figure size 1000x700 with 2 Axes>"
      ]
     },
     "metadata": {},
     "output_type": "display_data"
    }
   ],
   "source": [
    "# Predict the test set\n",
    "y_pred = clf1.predict(combined_df)\n",
    "\n",
    "# Calculate accuracy\n",
    "accuracy = accuracy_score(df_y_label, y_pred)\n",
    "\n",
    "# Calculate precision, recall\n",
    "precision = precision_score(df_y_label, y_pred, average='weighted')\n",
    "recall = recall_score(df_y_label, y_pred, average='weighted')\n",
    "\n",
    "# Generate the confusion matrix\n",
    "conf_matrix = confusion_matrix(df_y_label, y_pred)\n",
    "\n",
    "# Display the metrics\n",
    "print(f\"Accuracy: {accuracy:.4f}\")\n",
    "print(f\"Precision: {precision:.4f}\")\n",
    "print(f\"Recall: {recall:.4f}\")\n",
    "print(\"\\nClassification Report:\\n\", classification_report(df_y_label, y_pred))\n",
    "\n",
    "# Plot the confusion matrix\n",
    "plt.figure(figsize=(10, 7))\n",
    "sns.heatmap(conf_matrix, annot=True, fmt='d', cmap='Blues', xticklabels=clf1.classes_, yticklabels=clf1.classes_)\n",
    "plt.title('Confusion Matrix')\n",
    "plt.xlabel('Predicted Label')\n",
    "plt.ylabel('True Label')\n",
    "plt.show()\n"
   ]
  },
  {
   "cell_type": "markdown",
   "metadata": {},
   "source": [
    "Making of Test Samples"
   ]
  },
  {
   "cell_type": "code",
   "execution_count": 17,
   "metadata": {},
   "outputs": [
    {
     "name": "stdout",
     "output_type": "stream",
     "text": [
      "106\n",
      "6\n"
     ]
    }
   ],
   "source": [
    "os.chdir(r\"c:\\Users\\shubh\\OneDrive - iitgn.ac.in\\Desktop\\Projects\\ML\\Assignm1\\UCI_HAR_Dataset\")\n",
    "path_now = os.getcwd()\n",
    "# print(os.getcwd())\n",
    "\n",
    "\n",
    "dfs_test = []\n",
    "# # Load your dataset\n",
    "action_types = ['WALKING_UPSTAIRS','LAYING', 'SITTING', 'STANDING', 'WALKING_DOWNSTAIRS', 'WALKING']\n",
    "# csv_directory = []\n",
    "# for action in action_types:\n",
    "#     for i in range(6):\n",
    "#         csv_directory = csv_directory + [os.path.join(path_now,\"Task4\", \"Data_New\",\"Data_New\")] #,action+\"_\"+str(i+1))]\n",
    "\n",
    "csv_directory = os.path.join(path_now,\"Task4\", \"Data_New\",\"Data_New\")\n",
    "print(len(csv_directory))\n",
    "action_freq_test = []\n",
    "\n",
    "sum_freq = []\n",
    "for filename in os.listdir(csv_directory):\n",
    "    # print(filename)\n",
    "    # print(csv_directory)\n",
    "    filepath = os.path.join(csv_directory, filename)\n",
    "    # print(filepath)\n",
    "    # Read the CSV file\n",
    "    df = pd.read_csv(filepath, delimiter=',')\n",
    "    df = df.drop('TgF', axis = 1)\n",
    "    df = df.drop('time', axis = 1)\n",
    "    # print(df)\n",
    "    df.columns = ['accx', 'accy', 'accz']\n",
    "    # print(df)\n",
    "    # Append the DataFrame to the list\n",
    "    dfs_test.append(df)\n",
    "\n",
    "    # Optionally, print the filename to confirm processing\n",
    "    # print(f\"Processed test: {filename}\")\n",
    "    # print(len(df))\n",
    "    sum_freq = sum_freq + [len(df)]\n",
    "\n",
    " \n",
    "# print(sum_freq)\n",
    "\n",
    "for i in range(0, len(sum_freq), 6):\n",
    "    # Sum the current chunk of 6 elements and append the sum to the new list\n",
    "    chunk_sum = sum(sum_freq[i:i+6])\n",
    "    action_freq_test.append(chunk_sum)\n",
    "\n",
    "# print(action_freq_test)\n",
    "\n",
    "df_master_test = [dfs_test[0:6],dfs_test[6:12],dfs_test[12:18],dfs_test[18:24],dfs_test[24:30],dfs_test[30:36]]\n",
    "\n",
    "df_to_use = []\n",
    "for i in range(6):\n",
    "    df_to_use =  df_to_use + [pd.concat(df_master_test[i], ignore_index=True)]\n",
    "\n",
    "print(len(df_to_use))"
   ]
  },
  {
   "cell_type": "code",
   "execution_count": 18,
   "metadata": {},
   "outputs": [
    {
     "name": "stdout",
     "output_type": "stream",
     "text": [
      "*** Feature extraction started ***\n"
     ]
    },
    {
     "data": {
      "text/html": [
       "\n",
       "              <p>\n",
       "                  Progress: 100% Complete\n",
       "              <p/>\n",
       "              <progress\n",
       "                  value='92'\n",
       "                  max='92',\n",
       "                  style='width: 25%',\n",
       "              >\n",
       "                  92\n",
       "              </progress>\n",
       "\n",
       "    "
      ],
      "text/plain": [
       "<IPython.core.display.HTML object>"
      ]
     },
     "metadata": {},
     "output_type": "display_data"
    },
    {
     "name": "stdout",
     "output_type": "stream",
     "text": [
      "\n",
      "*** Feature extraction finished ***\n",
      "feature extraction for activity WALKING_UPSTAIRS done\n",
      "*** Feature extraction started ***\n"
     ]
    },
    {
     "data": {
      "text/html": [
       "\n",
       "              <p>\n",
       "                  Progress: 100% Complete\n",
       "              <p/>\n",
       "              <progress\n",
       "                  value='103'\n",
       "                  max='103',\n",
       "                  style='width: 25%',\n",
       "              >\n",
       "                  103\n",
       "              </progress>\n",
       "\n",
       "    "
      ],
      "text/plain": [
       "<IPython.core.display.HTML object>"
      ]
     },
     "metadata": {},
     "output_type": "display_data"
    },
    {
     "name": "stdout",
     "output_type": "stream",
     "text": [
      "\n",
      "*** Feature extraction finished ***\n",
      "feature extraction for activity LAYING done\n",
      "*** Feature extraction started ***\n"
     ]
    },
    {
     "data": {
      "text/html": [
       "\n",
       "              <p>\n",
       "                  Progress: 100% Complete\n",
       "              <p/>\n",
       "              <progress\n",
       "                  value='105'\n",
       "                  max='105',\n",
       "                  style='width: 25%',\n",
       "              >\n",
       "                  105\n",
       "              </progress>\n",
       "\n",
       "    "
      ],
      "text/plain": [
       "<IPython.core.display.HTML object>"
      ]
     },
     "metadata": {},
     "output_type": "display_data"
    },
    {
     "name": "stdout",
     "output_type": "stream",
     "text": [
      "\n",
      "*** Feature extraction finished ***\n",
      "feature extraction for activity SITTING done\n",
      "*** Feature extraction started ***\n"
     ]
    },
    {
     "data": {
      "text/html": [
       "\n",
       "              <p>\n",
       "                  Progress: 100% Complete\n",
       "              <p/>\n",
       "              <progress\n",
       "                  value='92'\n",
       "                  max='92',\n",
       "                  style='width: 25%',\n",
       "              >\n",
       "                  92\n",
       "              </progress>\n",
       "\n",
       "    "
      ],
      "text/plain": [
       "<IPython.core.display.HTML object>"
      ]
     },
     "metadata": {},
     "output_type": "display_data"
    },
    {
     "name": "stdout",
     "output_type": "stream",
     "text": [
      "\n",
      "*** Feature extraction finished ***\n",
      "feature extraction for activity STANDING done\n",
      "*** Feature extraction started ***\n"
     ]
    },
    {
     "data": {
      "text/html": [
       "\n",
       "              <p>\n",
       "                  Progress: 100% Complete\n",
       "              <p/>\n",
       "              <progress\n",
       "                  value='77'\n",
       "                  max='77',\n",
       "                  style='width: 25%',\n",
       "              >\n",
       "                  77\n",
       "              </progress>\n",
       "\n",
       "    "
      ],
      "text/plain": [
       "<IPython.core.display.HTML object>"
      ]
     },
     "metadata": {},
     "output_type": "display_data"
    },
    {
     "name": "stdout",
     "output_type": "stream",
     "text": [
      "\n",
      "*** Feature extraction finished ***\n",
      "feature extraction for activity WALKING_DOWNSTAIRS done\n",
      "*** Feature extraction started ***\n"
     ]
    },
    {
     "data": {
      "text/html": [
       "\n",
       "              <p>\n",
       "                  Progress: 100% Complete\n",
       "              <p/>\n",
       "              <progress\n",
       "                  value='93'\n",
       "                  max='93',\n",
       "                  style='width: 25%',\n",
       "              >\n",
       "                  93\n",
       "              </progress>\n",
       "\n",
       "    "
      ],
      "text/plain": [
       "<IPython.core.display.HTML object>"
      ]
     },
     "metadata": {},
     "output_type": "display_data"
    },
    {
     "name": "stdout",
     "output_type": "stream",
     "text": [
      "\n",
      "*** Feature extraction finished ***\n",
      "feature extraction for activity WALKING done\n"
     ]
    }
   ],
   "source": [
    "sampling_freq = 50\n",
    "windowsize = 50\n",
    "\n",
    "# Get the default configuration for feature extraction\n",
    "cfg = tsfel.get_features_by_domain()\n",
    "\n",
    "features_test = []\n",
    "# Extract features from the time series data\n",
    "\n",
    "for i in range(6):\n",
    "    feature_temp_test = tsfel.time_series_features_extractor(cfg, df_to_use[i], fs = sampling_freq, window_size= windowsize)   \n",
    "    features_test.append(feature_temp_test) \n",
    "    print(f\"feature extraction for activity {action_types[i]} done\")\n",
    "\n"
   ]
  },
  {
   "cell_type": "code",
   "execution_count": 21,
   "metadata": {},
   "outputs": [
    {
     "name": "stdout",
     "output_type": "stream",
     "text": [
      "(562, 477)\n"
     ]
    }
   ],
   "source": [
    "combined_df_test = pd.concat(features_test, ignore_index=True)\n",
    "\n",
    "print(combined_df_test.shape)\n"
   ]
  },
  {
   "cell_type": "code",
   "execution_count": 20,
   "metadata": {},
   "outputs": [
    {
     "name": "stdout",
     "output_type": "stream",
     "text": [
      "              y_train\n",
      "0    WALKING_UPSTAIRS\n",
      "1    WALKING_UPSTAIRS\n",
      "2    WALKING_UPSTAIRS\n",
      "3    WALKING_UPSTAIRS\n",
      "4    WALKING_UPSTAIRS\n",
      "..                ...\n",
      "557           WALKING\n",
      "558           WALKING\n",
      "559           WALKING\n",
      "560           WALKING\n",
      "561           WALKING\n",
      "\n",
      "[562 rows x 1 columns]\n"
     ]
    }
   ],
   "source": [
    "y_label_test = []\n",
    "for i in range(6):\n",
    "    y_label_test = y_label_test + [action_types[i]] * features_test[i].shape[0]\n",
    "\n",
    "# Create the DataFrame\n",
    "df_y_label_test = pd.DataFrame({'y_train': y_label_test})\n",
    "\n",
    "print(df_y_label_test)"
   ]
  },
  {
   "cell_type": "code",
   "execution_count": 22,
   "metadata": {},
   "outputs": [
    {
     "name": "stdout",
     "output_type": "stream",
     "text": [
      "(562, 477)\n",
      "(562, 1)\n",
      "(9408, 477)\n",
      "(9408, 1)\n"
     ]
    }
   ],
   "source": [
    "print(combined_df_test.shape)\n",
    "print(df_y_label_test.shape)\n",
    "\n",
    "print(combined_df.shape)\n",
    "print(df_y_label.shape)"
   ]
  },
  {
   "cell_type": "markdown",
   "metadata": {},
   "source": [
    "PREDICT ON TRAIN SET"
   ]
  },
  {
   "cell_type": "code",
   "execution_count": 23,
   "metadata": {},
   "outputs": [
    {
     "name": "stdout",
     "output_type": "stream",
     "text": [
      "depth: 8\n",
      "Accuracy: 0.5605\n",
      "Precision: 0.6109\n",
      "Recall: 0.5605\n",
      "\n",
      "Classification Report:\n",
      "                     precision    recall  f1-score   support\n",
      "\n",
      "            LAYING       1.00      1.00      1.00       103\n",
      "           SITTING       0.50      1.00      0.67       105\n",
      "          STANDING       0.54      0.22      0.31        92\n",
      "           WALKING       0.43      0.73      0.54        93\n",
      "WALKING_DOWNSTAIRS       0.08      0.04      0.05        77\n",
      "  WALKING_UPSTAIRS       1.00      0.17      0.30        92\n",
      "\n",
      "          accuracy                           0.56       562\n",
      "         macro avg       0.59      0.53      0.48       562\n",
      "      weighted avg       0.61      0.56      0.50       562\n",
      "\n"
     ]
    },
    {
     "data": {
      "image/png": "[encoded data removed]",
      "text/plain": [
       "<Figure size 1000x700 with 2 Axes>"
      ]
     },
     "metadata": {},
     "output_type": "display_data"
    }
   ],
   "source": [
    "# Predict the test set\n",
    "y_pred = clf1.predict(combined_df_test)\n",
    "\n",
    "# Calculate accuracy\n",
    "accuracy = accuracy_score(df_y_label_test, y_pred)\n",
    "\n",
    "# Calculate precision, recall\n",
    "precision = precision_score(df_y_label_test, y_pred, average='weighted')\n",
    "recall = recall_score(df_y_label_test, y_pred, average='weighted')\n",
    "\n",
    "# Generate the confusion matrix\n",
    "conf_matrix = confusion_matrix(df_y_label_test, y_pred)\n",
    "\n",
    "# Display the metrics\n",
    "print(f\"depth: {n}\")\n",
    "print(f\"Accuracy: {accuracy:.4f}\")\n",
    "print(f\"Precision: {precision:.4f}\")\n",
    "print(f\"Recall: {recall:.4f}\")\n",
    "print(\"\\nClassification Report:\\n\", classification_report(df_y_label_test, y_pred))\n",
    "\n",
    "# Plot the confusion matrix\n",
    "plt.figure(figsize=(10, 7))\n",
    "sns.heatmap(conf_matrix, annot=True, fmt='d', cmap='Blues', xticklabels=clf1.classes_, yticklabels=clf1.classes_)\n",
    "plt.title('Confusion Matrix')\n",
    "plt.xlabel('Predicted Label')\n",
    "plt.ylabel('True Label')\n",
    "plt.show()\n"
   ]
  },
  {
   "cell_type": "markdown",
   "metadata": {},
   "source": [
    "REPORT"
   ]
  },
  {
   "cell_type": "markdown",
   "metadata": {},
   "source": [
    "depth: 2   \n",
    "Accuracy: 0.5311   \n",
    "Precision: 0.3364   \n",
    "Recall: 0.5311      \n",
    "   \n",
    "depth: 3   \n",
    "Accuracy: 0.7078   \n",
    "Precision: 0.6623   \n",
    "Recall: 0.7078   \n",
    "   \n",
    "depth: 4    \n",
    "Accuracy: 0.7834   \n",
    "Precision: 0.7988   \n",
    "Recall: 0.7834     \n",
    "  \n",
    "depth: 5   \n",
    "Accuracy: 0.8113   \n",
    "Precision: 0.8111   \n",
    "Recall: 0.8113     \n",
    "  \n",
    "depth: 6  \n",
    "Accuracy: 0.8079   \n",
    "Precision: 0.8179   \n",
    "Recall: 0.8079   \n",
    "   \n",
    "depth: 7   \n",
    "Accuracy: 0.8156   \n",
    "Precision: 0.8197   \n",
    "Recall: 0.8156   \n",
    "   \n",
    "depth: 8   \n",
    "Accuracy: 0.8227   \n",
    "Precision: 0.8242   \n",
    "Recall: 0.8227   "
   ]
  }
 ],
 "metadata": {
  "kernelspec": {
   "display_name": "Python 3",
   "language": "python",
   "name": "python3"
  },
  "language_info": {
   "codemirror_mode": {
    "name": "ipython",
    "version": 3
   },
   "file_extension": ".py",
   "mimetype": "text/x-python",
   "name": "python",
   "nbconvert_exporter": "python",
   "pygments_lexer": "ipython3",
   "version": "3.11.9"
  }
 },
 "nbformat": 4,
 "nbformat_minor": 2
}
